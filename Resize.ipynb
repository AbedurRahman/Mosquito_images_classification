{
  "nbformat": 4,
  "nbformat_minor": 0,
  "metadata": {
    "colab": {
      "name": "Resize.ipynb",
      "provenance": [],
      "include_colab_link": true
    },
    "kernelspec": {
      "name": "python3",
      "display_name": "Python 3"
    },
    "language_info": {
      "name": "python"
    }
  },
  "cells": [
    {
      "cell_type": "markdown",
      "metadata": {
        "id": "view-in-github",
        "colab_type": "text"
      },
      "source": [
        "<a href=\"https://colab.research.google.com/github/AbedurRahman/Mosquito_images_classification/blob/main/Resize.ipynb\" target=\"_parent\"><img src=\"https://colab.research.google.com/assets/colab-badge.svg\" alt=\"Open In Colab\"/></a>"
      ]
    },
    {
      "cell_type": "code",
      "execution_count": null,
      "metadata": {
        "id": "Ek1d9v90lrpl"
      },
      "outputs": [],
      "source": [
        "import cv2\n",
        "import glob\n",
        "import os\n",
        "\n",
        "inputFolder = '/content/drive/MyDrive/Non vectors'\n",
        "os.mkdir('/content/drive/MyDrive/Non vectors resize')\n",
        "\n",
        "i=0\n",
        "\n",
        "for img in glob.glob(inputFolder + \"/*.JPG\"):\n",
        "    image = cv2.imread(img)\n",
        "    imgResized = cv2.resize(image, (512, 512))\n",
        "    cv2.imwrite(\"/content/drive/MyDrive/Non vectors resize/non_vector%04i.JPG\" %i, imgResized)\n",
        "\n",
        "    i +=1\n",
        "    "
      ]
    }
  ]
}