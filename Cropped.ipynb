{
  "nbformat": 4,
  "nbformat_minor": 0,
  "metadata": {
    "colab": {
      "name": "Cropped.ipynb",
      "provenance": [],
      "include_colab_link": true
    },
    "kernelspec": {
      "name": "python3",
      "display_name": "Python 3"
    },
    "language_info": {
      "name": "python"
    }
  },
  "cells": [
    {
      "cell_type": "markdown",
      "metadata": {
        "id": "view-in-github",
        "colab_type": "text"
      },
      "source": [
        "<a href=\"https://colab.research.google.com/github/AbedurRahman/Mosquito_images_classification/blob/main/Cropped.ipynb\" target=\"_parent\"><img src=\"https://colab.research.google.com/assets/colab-badge.svg\" alt=\"Open In Colab\"/></a>"
      ]
    },
    {
      "cell_type": "code",
      "execution_count": null,
      "metadata": {
        "id": "pwiRptQmaH1b"
      },
      "outputs": [],
      "source": [
        "import cv2\n",
        "import glob\n",
        "import os\n",
        "\n",
        "inputFolder = '/content/drive/MyDrive/Mosquito_Raw/Mosquito_Raw/Aedes albopictus'\n",
        "os.mkdir('/content/drive/MyDrive/Aedes albopictus crop')\n",
        "\n",
        "i=0\n",
        "\n",
        "for img in glob.glob(inputFolder + \"/*.JPG\"):\n",
        "    image = cv2.imread(img)\n",
        "    imgCropped = image[400:1844 , 400: 1992] \n",
        "    cv2.imwrite(\"/content/drive/MyDrive/Aedes albopictus crop/Albo_test%04i.JPG\" %i,imgCropped)\n",
        "\n",
        "    i +=1\n",
        " \n"
      ]
    }
  ]
}